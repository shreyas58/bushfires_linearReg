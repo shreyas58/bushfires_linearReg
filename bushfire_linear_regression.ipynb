{
 "cells": [
  {
   "cell_type": "code",
   "execution_count": 1,
   "id": "ee865fe9",
   "metadata": {},
   "outputs": [],
   "source": [
    "all = ls()\n",
    "rm(all)\n",
    "\n",
    "options(warn=-1)"
   ]
  },
  {
   "cell_type": "code",
   "execution_count": 2,
   "id": "fc8d6b43",
   "metadata": {},
   "outputs": [
    {
     "name": "stderr",
     "output_type": "stream",
     "text": [
      "\n",
      "Attaching package: 'dplyr'\n",
      "\n",
      "The following objects are masked from 'package:stats':\n",
      "\n",
      "    filter, lag\n",
      "\n",
      "The following objects are masked from 'package:base':\n",
      "\n",
      "    intersect, setdiff, setequal, union\n",
      "\n",
      "Registered S3 methods overwritten by 'ggplot2':\n",
      "  method         from \n",
      "  [.quosures     rlang\n",
      "  c.quosures     rlang\n",
      "  print.quosures rlang\n",
      "\n",
      "Attaching package: 'olsrr'\n",
      "\n",
      "The following object is masked from 'package:datasets':\n",
      "\n",
      "    rivers\n",
      "\n",
      "Loading required package: lattice\n",
      "corrplot 0.90 loaded\n",
      "\n",
      "Attaching package: 'MASS'\n",
      "\n",
      "The following object is masked from 'package:olsrr':\n",
      "\n",
      "    cement\n",
      "\n",
      "The following object is masked from 'package:dplyr':\n",
      "\n",
      "    select\n",
      "\n"
     ]
    }
   ],
   "source": [
    "library(gtable)\n",
    "library(dplyr)\n",
    "library(ggplot2)\n",
    "library(ggthemes)\n",
    "library(olsrr) #cooks distance\n",
    "library(caret) # k fold cross validation\n",
    "library(lattice) # correlation\n",
    "library(corrplot)\n",
    "library(MASS)"
   ]
  },
  {
   "cell_type": "code",
   "execution_count": 3,
   "id": "f0aaf0f2",
   "metadata": {},
   "outputs": [],
   "source": [
    "bushfires = read.csv(\"forestfires.csv\")"
   ]
  },
  {
   "cell_type": "code",
   "execution_count": 4,
   "id": "d9f3bc33",
   "metadata": {},
   "outputs": [
    {
     "data": {
      "text/html": [
       "<table>\n",
       "<thead><tr><th scope=col>X</th><th scope=col>Y</th><th scope=col>month</th><th scope=col>day</th><th scope=col>FFMC</th><th scope=col>DMC</th><th scope=col>DC</th><th scope=col>ISI</th><th scope=col>temp</th><th scope=col>RH</th><th scope=col>wind</th><th scope=col>rain</th><th scope=col>area</th></tr></thead>\n",
       "<tbody>\n",
       "\t<tr><td>7    </td><td>5    </td><td>mar  </td><td>fri  </td><td>86.2 </td><td>26.2 </td><td> 94.3</td><td> 5.1 </td><td> 8.2 </td><td>51   </td><td>6.7  </td><td>0.0  </td><td>0    </td></tr>\n",
       "\t<tr><td>7    </td><td>4    </td><td>oct  </td><td>tue  </td><td>90.6 </td><td>35.4 </td><td>669.1</td><td> 6.7 </td><td>18.0 </td><td>33   </td><td>0.9  </td><td>0.0  </td><td>0    </td></tr>\n",
       "\t<tr><td>7    </td><td>4    </td><td>oct  </td><td>sat  </td><td>90.6 </td><td>43.7 </td><td>686.9</td><td> 6.7 </td><td>14.6 </td><td>33   </td><td>1.3  </td><td>0.0  </td><td>0    </td></tr>\n",
       "\t<tr><td>8    </td><td>6    </td><td>mar  </td><td>fri  </td><td>91.7 </td><td>33.3 </td><td> 77.5</td><td> 9.0 </td><td> 8.3 </td><td>97   </td><td>4.0  </td><td>0.2  </td><td>0    </td></tr>\n",
       "\t<tr><td>8    </td><td>6    </td><td>mar  </td><td>sun  </td><td>89.3 </td><td>51.3 </td><td>102.2</td><td> 9.6 </td><td>11.4 </td><td>99   </td><td>1.8  </td><td>0.0  </td><td>0    </td></tr>\n",
       "\t<tr><td>8    </td><td>6    </td><td>aug  </td><td>sun  </td><td>92.3 </td><td>85.3 </td><td>488.0</td><td>14.7 </td><td>22.2 </td><td>29   </td><td>5.4  </td><td>0.0  </td><td>0    </td></tr>\n",
       "</tbody>\n",
       "</table>\n"
      ],
      "text/latex": [
       "\\begin{tabular}{r|lllllllllllll}\n",
       " X & Y & month & day & FFMC & DMC & DC & ISI & temp & RH & wind & rain & area\\\\\n",
       "\\hline\n",
       "\t 7     & 5     & mar   & fri   & 86.2  & 26.2  &  94.3 &  5.1  &  8.2  & 51    & 6.7   & 0.0   & 0    \\\\\n",
       "\t 7     & 4     & oct   & tue   & 90.6  & 35.4  & 669.1 &  6.7  & 18.0  & 33    & 0.9   & 0.0   & 0    \\\\\n",
       "\t 7     & 4     & oct   & sat   & 90.6  & 43.7  & 686.9 &  6.7  & 14.6  & 33    & 1.3   & 0.0   & 0    \\\\\n",
       "\t 8     & 6     & mar   & fri   & 91.7  & 33.3  &  77.5 &  9.0  &  8.3  & 97    & 4.0   & 0.2   & 0    \\\\\n",
       "\t 8     & 6     & mar   & sun   & 89.3  & 51.3  & 102.2 &  9.6  & 11.4  & 99    & 1.8   & 0.0   & 0    \\\\\n",
       "\t 8     & 6     & aug   & sun   & 92.3  & 85.3  & 488.0 & 14.7  & 22.2  & 29    & 5.4   & 0.0   & 0    \\\\\n",
       "\\end{tabular}\n"
      ],
      "text/markdown": [
       "\n",
       "| X | Y | month | day | FFMC | DMC | DC | ISI | temp | RH | wind | rain | area |\n",
       "|---|---|---|---|---|---|---|---|---|---|---|---|---|\n",
       "| 7     | 5     | mar   | fri   | 86.2  | 26.2  |  94.3 |  5.1  |  8.2  | 51    | 6.7   | 0.0   | 0     |\n",
       "| 7     | 4     | oct   | tue   | 90.6  | 35.4  | 669.1 |  6.7  | 18.0  | 33    | 0.9   | 0.0   | 0     |\n",
       "| 7     | 4     | oct   | sat   | 90.6  | 43.7  | 686.9 |  6.7  | 14.6  | 33    | 1.3   | 0.0   | 0     |\n",
       "| 8     | 6     | mar   | fri   | 91.7  | 33.3  |  77.5 |  9.0  |  8.3  | 97    | 4.0   | 0.2   | 0     |\n",
       "| 8     | 6     | mar   | sun   | 89.3  | 51.3  | 102.2 |  9.6  | 11.4  | 99    | 1.8   | 0.0   | 0     |\n",
       "| 8     | 6     | aug   | sun   | 92.3  | 85.3  | 488.0 | 14.7  | 22.2  | 29    | 5.4   | 0.0   | 0     |\n",
       "\n"
      ],
      "text/plain": [
       "  X Y month day FFMC DMC  DC    ISI  temp RH wind rain area\n",
       "1 7 5 mar   fri 86.2 26.2  94.3  5.1  8.2 51 6.7  0.0  0   \n",
       "2 7 4 oct   tue 90.6 35.4 669.1  6.7 18.0 33 0.9  0.0  0   \n",
       "3 7 4 oct   sat 90.6 43.7 686.9  6.7 14.6 33 1.3  0.0  0   \n",
       "4 8 6 mar   fri 91.7 33.3  77.5  9.0  8.3 97 4.0  0.2  0   \n",
       "5 8 6 mar   sun 89.3 51.3 102.2  9.6 11.4 99 1.8  0.0  0   \n",
       "6 8 6 aug   sun 92.3 85.3 488.0 14.7 22.2 29 5.4  0.0  0   "
      ]
     },
     "metadata": {},
     "output_type": "display_data"
    }
   ],
   "source": [
    "head(bushfires)"
   ]
  },
  {
   "cell_type": "markdown",
   "id": "0544ae43",
   "metadata": {},
   "source": [
    "#### Feature Information\n",
    "\n",
    "   1. X - x-axis spatial coordinate within the Montesinho park map: 1 to 9\n",
    "   2. Y - y-axis spatial coordinate within the Montesinho park map: 2 to 9\n",
    "   3. month - month of the year: \"jan\" to \"dec\" \n",
    "   4. day - day of the week: \"mon\" to \"sun\"\n",
    "   5. FFMC - FFMC index from the FWI system: 18.7 to 96.20\n",
    "   6. DMC - DMC index from the FWI system: 1.1 to 291.3 \n",
    "   7. DC - DC index from the FWI system: 7.9 to 860.6 \n",
    "   8. ISI - ISI index from the FWI system: 0.0 to 56.10\n",
    "   9. temp - temperature in Celsius degrees: 2.2 to 33.30\n",
    "   10. RH - relative humidity in %: 15.0 to 100\n",
    "   11. wind - wind speed in km/h: 0.40 to 9.40 \n",
    "   12. rain - outside rain in mm/m2 : 0.0 to 6.4 \n",
    "   13. area - the burned area of the forest (in ha): 0.00 to 1090.84"
   ]
  },
  {
   "cell_type": "code",
   "execution_count": 5,
   "id": "37be5719",
   "metadata": {},
   "outputs": [
    {
     "data": {
      "text/html": [
       "<ol class=list-inline>\n",
       "\t<li>517</li>\n",
       "\t<li>13</li>\n",
       "</ol>\n"
      ],
      "text/latex": [
       "\\begin{enumerate*}\n",
       "\\item 517\n",
       "\\item 13\n",
       "\\end{enumerate*}\n"
      ],
      "text/markdown": [
       "1. 517\n",
       "2. 13\n",
       "\n",
       "\n"
      ],
      "text/plain": [
       "[1] 517  13"
      ]
     },
     "metadata": {},
     "output_type": "display_data"
    }
   ],
   "source": [
    "dim(bushfires)"
   ]
  },
  {
   "cell_type": "code",
   "execution_count": 6,
   "id": "6dc059d7",
   "metadata": {},
   "outputs": [
    {
     "name": "stdout",
     "output_type": "stream",
     "text": [
      "Observations: 517\n",
      "Variables: 13\n",
      "$ X     <int> 7, 7, 7, 8, 8, 8, 8, 8, 8, 7, 7, 7, 6, 6, 6, 6, 5, 8, 6, 6, 6...\n",
      "$ Y     <int> 5, 4, 4, 6, 6, 6, 6, 6, 6, 5, 5, 5, 5, 5, 5, 5, 5, 5, 4, 4, 4...\n",
      "$ month <fct> mar, oct, oct, mar, mar, aug, aug, aug, sep, sep, sep, sep, a...\n",
      "$ day   <fct> fri, tue, sat, fri, sun, sun, mon, mon, tue, sat, sat, sat, f...\n",
      "$ FFMC  <dbl> 86.2, 90.6, 90.6, 91.7, 89.3, 92.3, 92.3, 91.5, 91.0, 92.5, 9...\n",
      "$ DMC   <dbl> 26.2, 35.4, 43.7, 33.3, 51.3, 85.3, 88.9, 145.4, 129.5, 88.0,...\n",
      "$ DC    <dbl> 94.3, 669.1, 686.9, 77.5, 102.2, 488.0, 495.6, 608.2, 692.6, ...\n",
      "$ ISI   <dbl> 5.1, 6.7, 6.7, 9.0, 9.6, 14.7, 8.5, 10.7, 7.0, 7.1, 7.1, 22.6...\n",
      "$ temp  <dbl> 8.2, 18.0, 14.6, 8.3, 11.4, 22.2, 24.1, 8.0, 13.1, 22.8, 17.8...\n",
      "$ RH    <int> 51, 33, 33, 97, 99, 29, 27, 86, 63, 40, 51, 38, 72, 42, 21, 4...\n",
      "$ wind  <dbl> 6.7, 0.9, 1.3, 4.0, 1.8, 5.4, 3.1, 2.2, 5.4, 4.0, 7.2, 4.0, 6...\n",
      "$ rain  <dbl> 0.0, 0.0, 0.0, 0.2, 0.0, 0.0, 0.0, 0.0, 0.0, 0.0, 0.0, 0.0, 0...\n",
      "$ area  <dbl> 0, 0, 0, 0, 0, 0, 0, 0, 0, 0, 0, 0, 0, 0, 0, 0, 0, 0, 0, 0, 0...\n"
     ]
    }
   ],
   "source": [
    "glimpse(bushfires)"
   ]
  },
  {
   "cell_type": "markdown",
   "id": "5b0c378f",
   "metadata": {},
   "source": [
    "### 2 categorical columns (month and day), others are numerical"
   ]
  },
  {
   "cell_type": "code",
   "execution_count": 7,
   "id": "e6a627d3",
   "metadata": {
    "scrolled": true
   },
   "outputs": [
    {
     "data": {
      "text/html": [
       "<ol class=list-inline>\n",
       "\t<li>mar</li>\n",
       "\t<li>oct</li>\n",
       "\t<li>aug</li>\n",
       "\t<li>sep</li>\n",
       "\t<li>apr</li>\n",
       "\t<li>jun</li>\n",
       "\t<li>jul</li>\n",
       "\t<li>feb</li>\n",
       "\t<li>jan</li>\n",
       "\t<li>dec</li>\n",
       "\t<li>may</li>\n",
       "\t<li>nov</li>\n",
       "</ol>\n",
       "\n",
       "<details>\n",
       "\t<summary style=display:list-item;cursor:pointer>\n",
       "\t\t<strong>Levels</strong>:\n",
       "\t</summary>\n",
       "\t<ol class=list-inline>\n",
       "\t\t<li>'apr'</li>\n",
       "\t\t<li>'aug'</li>\n",
       "\t\t<li>'dec'</li>\n",
       "\t\t<li>'feb'</li>\n",
       "\t\t<li>'jan'</li>\n",
       "\t\t<li>'jul'</li>\n",
       "\t\t<li>'jun'</li>\n",
       "\t\t<li>'mar'</li>\n",
       "\t\t<li>'may'</li>\n",
       "\t\t<li>'nov'</li>\n",
       "\t\t<li>'oct'</li>\n",
       "\t\t<li>'sep'</li>\n",
       "\t</ol>\n",
       "</details>"
      ],
      "text/latex": [
       "\\begin{enumerate*}\n",
       "\\item mar\n",
       "\\item oct\n",
       "\\item aug\n",
       "\\item sep\n",
       "\\item apr\n",
       "\\item jun\n",
       "\\item jul\n",
       "\\item feb\n",
       "\\item jan\n",
       "\\item dec\n",
       "\\item may\n",
       "\\item nov\n",
       "\\end{enumerate*}\n",
       "\n",
       "\\emph{Levels}: \\begin{enumerate*}\n",
       "\\item 'apr'\n",
       "\\item 'aug'\n",
       "\\item 'dec'\n",
       "\\item 'feb'\n",
       "\\item 'jan'\n",
       "\\item 'jul'\n",
       "\\item 'jun'\n",
       "\\item 'mar'\n",
       "\\item 'may'\n",
       "\\item 'nov'\n",
       "\\item 'oct'\n",
       "\\item 'sep'\n",
       "\\end{enumerate*}\n"
      ],
      "text/markdown": [
       "1. mar\n",
       "2. oct\n",
       "3. aug\n",
       "4. sep\n",
       "5. apr\n",
       "6. jun\n",
       "7. jul\n",
       "8. feb\n",
       "9. jan\n",
       "10. dec\n",
       "11. may\n",
       "12. nov\n",
       "\n",
       "\n",
       "\n",
       "**Levels**: 1. 'apr'\n",
       "2. 'aug'\n",
       "3. 'dec'\n",
       "4. 'feb'\n",
       "5. 'jan'\n",
       "6. 'jul'\n",
       "7. 'jun'\n",
       "8. 'mar'\n",
       "9. 'may'\n",
       "10. 'nov'\n",
       "11. 'oct'\n",
       "12. 'sep'\n",
       "\n",
       "\n"
      ],
      "text/plain": [
       " [1] mar oct aug sep apr jun jul feb jan dec may nov\n",
       "Levels: apr aug dec feb jan jul jun mar may nov oct sep"
      ]
     },
     "metadata": {},
     "output_type": "display_data"
    },
    {
     "data": {
      "text/html": [
       "<ol class=list-inline>\n",
       "\t<li>fri</li>\n",
       "\t<li>tue</li>\n",
       "\t<li>sat</li>\n",
       "\t<li>sun</li>\n",
       "\t<li>mon</li>\n",
       "\t<li>wed</li>\n",
       "\t<li>thu</li>\n",
       "</ol>\n",
       "\n",
       "<details>\n",
       "\t<summary style=display:list-item;cursor:pointer>\n",
       "\t\t<strong>Levels</strong>:\n",
       "\t</summary>\n",
       "\t<ol class=list-inline>\n",
       "\t\t<li>'fri'</li>\n",
       "\t\t<li>'mon'</li>\n",
       "\t\t<li>'sat'</li>\n",
       "\t\t<li>'sun'</li>\n",
       "\t\t<li>'thu'</li>\n",
       "\t\t<li>'tue'</li>\n",
       "\t\t<li>'wed'</li>\n",
       "\t</ol>\n",
       "</details>"
      ],
      "text/latex": [
       "\\begin{enumerate*}\n",
       "\\item fri\n",
       "\\item tue\n",
       "\\item sat\n",
       "\\item sun\n",
       "\\item mon\n",
       "\\item wed\n",
       "\\item thu\n",
       "\\end{enumerate*}\n",
       "\n",
       "\\emph{Levels}: \\begin{enumerate*}\n",
       "\\item 'fri'\n",
       "\\item 'mon'\n",
       "\\item 'sat'\n",
       "\\item 'sun'\n",
       "\\item 'thu'\n",
       "\\item 'tue'\n",
       "\\item 'wed'\n",
       "\\end{enumerate*}\n"
      ],
      "text/markdown": [
       "1. fri\n",
       "2. tue\n",
       "3. sat\n",
       "4. sun\n",
       "5. mon\n",
       "6. wed\n",
       "7. thu\n",
       "\n",
       "\n",
       "\n",
       "**Levels**: 1. 'fri'\n",
       "2. 'mon'\n",
       "3. 'sat'\n",
       "4. 'sun'\n",
       "5. 'thu'\n",
       "6. 'tue'\n",
       "7. 'wed'\n",
       "\n",
       "\n"
      ],
      "text/plain": [
       "[1] fri tue sat sun mon wed thu\n",
       "Levels: fri mon sat sun thu tue wed"
      ]
     },
     "metadata": {},
     "output_type": "display_data"
    }
   ],
   "source": [
    "unique(bushfires$month)\n",
    "unique(bushfires$day)"
   ]
  },
  {
   "cell_type": "code",
   "execution_count": 8,
   "id": "bfc39ed3",
   "metadata": {
    "scrolled": true
   },
   "outputs": [
    {
     "data": {
      "text/html": [
       "<table>\n",
       "<thead><tr><th scope=col>month</th><th scope=col>counts</th></tr></thead>\n",
       "<tbody>\n",
       "\t<tr><td>aug</td><td>184</td></tr>\n",
       "\t<tr><td>sep</td><td>172</td></tr>\n",
       "\t<tr><td>mar</td><td> 54</td></tr>\n",
       "\t<tr><td>jul</td><td> 32</td></tr>\n",
       "\t<tr><td>feb</td><td> 20</td></tr>\n",
       "\t<tr><td>jun</td><td> 17</td></tr>\n",
       "\t<tr><td>oct</td><td> 15</td></tr>\n",
       "\t<tr><td>apr</td><td>  9</td></tr>\n",
       "\t<tr><td>dec</td><td>  9</td></tr>\n",
       "\t<tr><td>jan</td><td>  2</td></tr>\n",
       "\t<tr><td>may</td><td>  2</td></tr>\n",
       "\t<tr><td>nov</td><td>  1</td></tr>\n",
       "</tbody>\n",
       "</table>\n"
      ],
      "text/latex": [
       "\\begin{tabular}{r|ll}\n",
       " month & counts\\\\\n",
       "\\hline\n",
       "\t aug & 184\\\\\n",
       "\t sep & 172\\\\\n",
       "\t mar &  54\\\\\n",
       "\t jul &  32\\\\\n",
       "\t feb &  20\\\\\n",
       "\t jun &  17\\\\\n",
       "\t oct &  15\\\\\n",
       "\t apr &   9\\\\\n",
       "\t dec &   9\\\\\n",
       "\t jan &   2\\\\\n",
       "\t may &   2\\\\\n",
       "\t nov &   1\\\\\n",
       "\\end{tabular}\n"
      ],
      "text/markdown": [
       "\n",
       "| month | counts |\n",
       "|---|---|\n",
       "| aug | 184 |\n",
       "| sep | 172 |\n",
       "| mar |  54 |\n",
       "| jul |  32 |\n",
       "| feb |  20 |\n",
       "| jun |  17 |\n",
       "| oct |  15 |\n",
       "| apr |   9 |\n",
       "| dec |   9 |\n",
       "| jan |   2 |\n",
       "| may |   2 |\n",
       "| nov |   1 |\n",
       "\n"
      ],
      "text/plain": [
       "   month counts\n",
       "1  aug   184   \n",
       "2  sep   172   \n",
       "3  mar    54   \n",
       "4  jul    32   \n",
       "5  feb    20   \n",
       "6  jun    17   \n",
       "7  oct    15   \n",
       "8  apr     9   \n",
       "9  dec     9   \n",
       "10 jan     2   \n",
       "11 may     2   \n",
       "12 nov     1   "
      ]
     },
     "metadata": {},
     "output_type": "display_data"
    }
   ],
   "source": [
    "bushfires %>%\n",
    "    group_by(month) %>%\n",
    "    summarise(counts = length(month)) %>%\n",
    "    arrange(desc(counts))"
   ]
  },
  {
   "cell_type": "markdown",
   "id": "a66e70a7",
   "metadata": {},
   "source": [
    "### since data points for months other than Aug, Sep and Mar are very less, we shall group them as others"
   ]
  },
  {
   "cell_type": "code",
   "execution_count": 9,
   "id": "978829e6",
   "metadata": {},
   "outputs": [
    {
     "data": {
      "text/html": [
       "<table>\n",
       "<thead><tr><th scope=col>month</th><th scope=col>counts</th></tr></thead>\n",
       "<tbody>\n",
       "\t<tr><td>aug   </td><td>184   </td></tr>\n",
       "\t<tr><td>sep   </td><td>172   </td></tr>\n",
       "\t<tr><td>others</td><td>107   </td></tr>\n",
       "\t<tr><td>mar   </td><td> 54   </td></tr>\n",
       "</tbody>\n",
       "</table>\n"
      ],
      "text/latex": [
       "\\begin{tabular}{r|ll}\n",
       " month & counts\\\\\n",
       "\\hline\n",
       "\t aug    & 184   \\\\\n",
       "\t sep    & 172   \\\\\n",
       "\t others & 107   \\\\\n",
       "\t mar    &  54   \\\\\n",
       "\\end{tabular}\n"
      ],
      "text/markdown": [
       "\n",
       "| month | counts |\n",
       "|---|---|\n",
       "| aug    | 184    |\n",
       "| sep    | 172    |\n",
       "| others | 107    |\n",
       "| mar    |  54    |\n",
       "\n"
      ],
      "text/plain": [
       "  month  counts\n",
       "1 aug    184   \n",
       "2 sep    172   \n",
       "3 others 107   \n",
       "4 mar     54   "
      ]
     },
     "metadata": {},
     "output_type": "display_data"
    }
   ],
   "source": [
    "bushfires$month = as.character(bushfires$month)\n",
    "bushfires$month[bushfires$month != 'aug' & bushfires$month != 'mar' & bushfires$month != 'sep'] = \"others\"\n",
    "bushfires$month = as.factor(bushfires$month)\n",
    "\n",
    "bushfires %>%\n",
    "    group_by(month) %>%\n",
    "    summarise(counts = length(month)) %>%\n",
    "    arrange(desc(counts))"
   ]
  },
  {
   "cell_type": "code",
   "execution_count": 10,
   "id": "dcc441a2",
   "metadata": {},
   "outputs": [
    {
     "data": {
      "text/html": [
       "<table>\n",
       "<thead><tr><th scope=col>day</th><th scope=col>counts</th></tr></thead>\n",
       "<tbody>\n",
       "\t<tr><td>sun</td><td>95 </td></tr>\n",
       "\t<tr><td>fri</td><td>85 </td></tr>\n",
       "\t<tr><td>sat</td><td>84 </td></tr>\n",
       "\t<tr><td>mon</td><td>74 </td></tr>\n",
       "\t<tr><td>tue</td><td>64 </td></tr>\n",
       "\t<tr><td>thu</td><td>61 </td></tr>\n",
       "\t<tr><td>wed</td><td>54 </td></tr>\n",
       "</tbody>\n",
       "</table>\n"
      ],
      "text/latex": [
       "\\begin{tabular}{r|ll}\n",
       " day & counts\\\\\n",
       "\\hline\n",
       "\t sun & 95 \\\\\n",
       "\t fri & 85 \\\\\n",
       "\t sat & 84 \\\\\n",
       "\t mon & 74 \\\\\n",
       "\t tue & 64 \\\\\n",
       "\t thu & 61 \\\\\n",
       "\t wed & 54 \\\\\n",
       "\\end{tabular}\n"
      ],
      "text/markdown": [
       "\n",
       "| day | counts |\n",
       "|---|---|\n",
       "| sun | 95  |\n",
       "| fri | 85  |\n",
       "| sat | 84  |\n",
       "| mon | 74  |\n",
       "| tue | 64  |\n",
       "| thu | 61  |\n",
       "| wed | 54  |\n",
       "\n"
      ],
      "text/plain": [
       "  day counts\n",
       "1 sun 95    \n",
       "2 fri 85    \n",
       "3 sat 84    \n",
       "4 mon 74    \n",
       "5 tue 64    \n",
       "6 thu 61    \n",
       "7 wed 54    "
      ]
     },
     "metadata": {},
     "output_type": "display_data"
    }
   ],
   "source": [
    "bushfires %>%\n",
    "    group_by(day) %>%\n",
    "    summarise(counts = length(day)) %>%\n",
    "    arrange(desc(counts))"
   ]
  },
  {
   "cell_type": "code",
   "execution_count": 11,
   "id": "d13317f3",
   "metadata": {
    "scrolled": false
   },
   "outputs": [
    {
     "data": {
      "image/png": "[encoded data removed]",
      "text/plain": [
       "plot without title"
      ]
     },
     "metadata": {},
     "output_type": "display_data"
    }
   ],
   "source": [
    "ggplot(bushfires, aes(x = area)) +\n",
    "    ggtitle(\"Density plot for area\") +\n",
    "    geom_histogram(aes(y= ..density..), bins = 50, color = \"black\", fill = \"red\") +\n",
    "    theme_excel()"
   ]
  },
  {
   "cell_type": "markdown",
   "id": "3895019b",
   "metadata": {},
   "source": [
    "### Area column is extremely right skewed, we shall perform transformations to try and modify it into a normal distribution"
   ]
  },
  {
   "cell_type": "code",
   "execution_count": 12,
   "id": "eeadfe96",
   "metadata": {},
   "outputs": [
    {
     "data": {
      "image/png": "[encoded data removed]",
      "text/plain": [
       "plot without title"
      ]
     },
     "metadata": {},
     "output_type": "display_data"
    }
   ],
   "source": [
    "bushfires$org_area = bushfires$area\n",
    "\n",
    "# applying log transformation\n",
    "bushfires$area = log(bushfires$area + 1)\n",
    "\n",
    "ggplot(bushfires, aes(x = area)) +\n",
    "    geom_histogram(aes(y= ..density..), bins = 50, color = \"black\", fill = \"red\") +\n",
    "    ggtitle(\"Density plot for area\") +\n",
    "    stat_function(fun = dnorm, args = list(mean = mean(bushfires$area,na.rm=TRUE), sd = sd(bushfires$area,na.rm=TRUE)), col = 'black', size = 0.85) +\n",
    "    theme_excel()"
   ]
  },
  {
   "cell_type": "markdown",
   "id": "708ee6c4",
   "metadata": {},
   "source": [
    "### since there a lot of unburnt areas, we will omit using these data points to build our model."
   ]
  },
  {
   "cell_type": "code",
   "execution_count": 13,
   "id": "b4aa7512",
   "metadata": {},
   "outputs": [],
   "source": [
    "burnt = bushfires %>%\n",
    "    filter(area > 0)"
   ]
  },
  {
   "cell_type": "code",
   "execution_count": 14,
   "id": "0281173c",
   "metadata": {
    "scrolled": true
   },
   "outputs": [
    {
     "data": {
      "text/html": [
       "<ol class=list-inline>\n",
       "\t<li>202</li>\n",
       "\t<li>14</li>\n",
       "</ol>\n"
      ],
      "text/latex": [
       "\\begin{enumerate*}\n",
       "\\item 202\n",
       "\\item 14\n",
       "\\end{enumerate*}\n"
      ],
      "text/markdown": [
       "1. 202\n",
       "2. 14\n",
       "\n",
       "\n"
      ],
      "text/plain": [
       "[1] 202  14"
      ]
     },
     "metadata": {},
     "output_type": "display_data"
    },
    {
     "data": {
      "text/html": [
       "<ol class=list-inline>\n",
       "\t<li>68</li>\n",
       "\t<li>14</li>\n",
       "</ol>\n"
      ],
      "text/latex": [
       "\\begin{enumerate*}\n",
       "\\item 68\n",
       "\\item 14\n",
       "\\end{enumerate*}\n"
      ],
      "text/markdown": [
       "1. 68\n",
       "2. 14\n",
       "\n",
       "\n"
      ],
      "text/plain": [
       "[1] 68 14"
      ]
     },
     "metadata": {},
     "output_type": "display_data"
    }
   ],
   "source": [
    "set.seed(123)\n",
    "\n",
    "train_idx = sample(seq_len(dim(burnt)[1]), size = 0.75 * nrow(burnt))\n",
    "\n",
    "train = burnt[train_idx, ]\n",
    "test = burnt[-train_idx, ]\n",
    "\n",
    "dim(train)\n",
    "dim(test)"
   ]
  },
  {
   "cell_type": "code",
   "execution_count": 15,
   "id": "3793df17",
   "metadata": {
    "scrolled": false
   },
   "outputs": [
    {
     "data": {
      "image/png": "[encoded data removed]",
      "text/plain": [
       "Plot with title \"Influential Observations using Cooks distance\""
      ]
     },
     "metadata": {},
     "output_type": "display_data"
    }
   ],
   "source": [
    "linear_model = lm(area ~ ., data = train[1:13])\n",
    "cooks_distance <- cooks.distance(linear_model)\n",
    "plot(cooks_distance, pch=\"+\", main=\"Influential Observations using Cooks distance\")\n",
    "abline(h = 4/nrow(train), col=\"red\")\n",
    "text(x=1:length(cooks_distance), y=cooks_distance+0.02,labels=ifelse(cooks_distance>4/nrow(train),names(cooks_distance),\"\"), col=\"red\")"
   ]
  },
  {
   "cell_type": "code",
   "execution_count": 16,
   "id": "3a736407",
   "metadata": {},
   "outputs": [],
   "source": [
    "# removing extreme influential points\n",
    "inf_points = which(cooks_distance > 4/nrow(train))\n",
    "train = train[-inf_points, ]"
   ]
  },
  {
   "cell_type": "code",
   "execution_count": 17,
   "id": "5a197171",
   "metadata": {},
   "outputs": [
    {
     "name": "stderr",
     "output_type": "stream",
     "text": [
      "\n",
      "Attaching package: 'gridExtra'\n",
      "\n",
      "The following object is masked from 'package:dplyr':\n",
      "\n",
      "    combine\n",
      "\n"
     ]
    },
    {
     "data": {
      "image/png": "[encoded data removed]",
      "text/plain": [
       "plot without title"
      ]
     },
     "metadata": {},
     "output_type": "display_data"
    }
   ],
   "source": [
    "library(gridExtra)\n",
    "\n",
    "plot1 = ggplot(train, aes(x = FFMC)) +\n",
    "    geom_density(size = 1) +\n",
    "    geom_vline(aes(xintercept = mean(FFMC)), color = \"blue\", linetype = \"dashed\", size = 1) +\n",
    "    theme_excel()\n",
    "\n",
    "plot2 = ggplot(train, aes(x = DMC)) +\n",
    "    geom_density(size = 1) +\n",
    "    geom_vline(aes(xintercept = mean(DMC)), color = \"blue\", linetype = \"dashed\", size = 1) +\n",
    "    theme_excel()\n",
    "\n",
    "plot3 = ggplot(train, aes(x = DC)) +\n",
    "    geom_density(size = 1) +\n",
    "    geom_vline(aes(xintercept = mean(DC)), color = \"blue\", linetype = \"dashed\", size = 1) +\n",
    "    theme_excel()\n",
    "\n",
    "plot4 = ggplot(train, aes(x = ISI)) +\n",
    "    geom_density(size = 1) +\n",
    "    geom_vline(aes(xintercept = mean(ISI)), color = \"blue\", linetype = \"dashed\", size = 1) +\n",
    "    theme_excel()\n",
    "\n",
    "plot5 = ggplot(train, aes(x = temp)) +\n",
    "    geom_density(size = 1) +\n",
    "    geom_vline(aes(xintercept = mean(temp)), color = \"blue\", linetype = \"dashed\", size = 1) +\n",
    "    theme_excel()\n",
    "\n",
    "plot6 = ggplot(train, aes(x = RH)) +\n",
    "    geom_density(size = 1) +\n",
    "    geom_vline(aes(xintercept = mean(RH)), color = \"blue\", linetype = \"dashed\", size = 1) +\n",
    "    theme_excel()\n",
    "\n",
    "plot7 = ggplot(train, aes(x = wind)) +\n",
    "    geom_density(size = 1) +\n",
    "    geom_vline(aes(xintercept = mean(wind)), color = \"blue\", linetype = \"dashed\", size = 1) +\n",
    "    theme_excel()\n",
    "\n",
    "plot8 = ggplot(train, aes(x = rain)) +\n",
    "    geom_density(size = 1) +\n",
    "    geom_vline(aes(xintercept = mean(rain)), color = \"blue\", linetype = \"dashed\", size = 1) +\n",
    "    theme_excel()\n",
    "\n",
    "plot9 = ggplot(train, aes(x = org_area)) +\n",
    "    geom_density(size = 1) +\n",
    "    geom_vline(aes(xintercept = mean(org_area)), color = \"blue\", linetype = \"dashed\", size = 1) +\n",
    "    theme_excel()\n",
    "\n",
    "grid.arrange(plot1, plot2, plot3, plot4, plot5, plot6, plot7, plot8, plot9,  nrow = 3)"
   ]
  },
  {
   "cell_type": "code",
   "execution_count": 18,
   "id": "59a53773",
   "metadata": {},
   "outputs": [
    {
     "data": {
      "image/png": "[encoded data removed]",
      "text/plain": [
       "Plot with title \"\""
      ]
     },
     "metadata": {},
     "output_type": "display_data"
    }
   ],
   "source": [
    "# finding numerical columns\n",
    "numCols <- unlist(lapply(train, is.numeric))\n",
    "\n",
    "# displaying correlation matrix\n",
    "cor_m = cor(train[, numCols])\n",
    "corrplot(cor_m, method = 'number', type = 'upper')"
   ]
  },
  {
   "cell_type": "code",
   "execution_count": 19,
   "id": "3c33305f",
   "metadata": {},
   "outputs": [
    {
     "data": {
      "text/html": [
       "<table>\n",
       "<thead><tr><th></th><th scope=col>X</th><th scope=col>Y</th><th scope=col>month</th><th scope=col>day</th><th scope=col>FFMC</th><th scope=col>DMC</th><th scope=col>DC</th><th scope=col>ISI</th><th scope=col>temp</th><th scope=col>RH</th><th scope=col>wind</th><th scope=col>rain</th><th scope=col>area</th><th scope=col>org_area</th></tr></thead>\n",
       "<tbody>\n",
       "\t<tr><th scope=row>179</th><td>7        </td><td>4        </td><td>sep      </td><td>fri      </td><td>88.2     </td><td>55.2     </td><td>732.3    </td><td>11.6     </td><td>15.2     </td><td>64       </td><td>3.1      </td><td>0        </td><td>0.4187103</td><td> 0.52    </td></tr>\n",
       "\t<tr><th scope=row>14</th><td>9        </td><td>9        </td><td>others   </td><td>sun      </td><td>90.1     </td><td>68.6     </td><td>355.2    </td><td> 7.2     </td><td>24.8     </td><td>29       </td><td>2.2      </td><td>0        </td><td>0.8586616</td><td> 1.36    </td></tr>\n",
       "\t<tr><th scope=row>195</th><td>3        </td><td>4        </td><td>sep      </td><td>sun      </td><td>90.5     </td><td>96.7     </td><td>750.5    </td><td>11.4     </td><td>20.6     </td><td>55       </td><td>5.4      </td><td>0        </td><td>3.2422017</td><td>24.59    </td></tr>\n",
       "</tbody>\n",
       "</table>\n"
      ],
      "text/latex": [
       "\\begin{tabular}{r|llllllllllllll}\n",
       "  & X & Y & month & day & FFMC & DMC & DC & ISI & temp & RH & wind & rain & area & org\\_area\\\\\n",
       "\\hline\n",
       "\t179 & 7         & 4         & sep       & fri       & 88.2      & 55.2      & 732.3     & 11.6      & 15.2      & 64        & 3.1       & 0         & 0.4187103 &  0.52    \\\\\n",
       "\t14 & 9         & 9         & others    & sun       & 90.1      & 68.6      & 355.2     &  7.2      & 24.8      & 29        & 2.2       & 0         & 0.8586616 &  1.36    \\\\\n",
       "\t195 & 3         & 4         & sep       & sun       & 90.5      & 96.7      & 750.5     & 11.4      & 20.6      & 55        & 5.4       & 0         & 3.2422017 & 24.59    \\\\\n",
       "\\end{tabular}\n"
      ],
      "text/markdown": [
       "\n",
       "| <!--/--> | X | Y | month | day | FFMC | DMC | DC | ISI | temp | RH | wind | rain | area | org_area |\n",
       "|---|---|---|---|---|---|---|---|---|---|---|---|---|---|---|\n",
       "| 179 | 7         | 4         | sep       | fri       | 88.2      | 55.2      | 732.3     | 11.6      | 15.2      | 64        | 3.1       | 0         | 0.4187103 |  0.52     |\n",
       "| 14 | 9         | 9         | others    | sun       | 90.1      | 68.6      | 355.2     |  7.2      | 24.8      | 29        | 2.2       | 0         | 0.8586616 |  1.36     |\n",
       "| 195 | 3         | 4         | sep       | sun       | 90.5      | 96.7      | 750.5     | 11.4      | 20.6      | 55        | 5.4       | 0         | 3.2422017 | 24.59     |\n",
       "\n"
      ],
      "text/plain": [
       "    X Y month  day FFMC DMC  DC    ISI  temp RH wind rain area      org_area\n",
       "179 7 4 sep    fri 88.2 55.2 732.3 11.6 15.2 64 3.1  0    0.4187103  0.52   \n",
       "14  9 9 others sun 90.1 68.6 355.2  7.2 24.8 29 2.2  0    0.8586616  1.36   \n",
       "195 3 4 sep    sun 90.5 96.7 750.5 11.4 20.6 55 5.4  0    3.2422017 24.59   "
      ]
     },
     "metadata": {},
     "output_type": "display_data"
    }
   ],
   "source": [
    "head(train, 3)"
   ]
  },
  {
   "cell_type": "code",
   "execution_count": 20,
   "id": "9388f2d6",
   "metadata": {},
   "outputs": [],
   "source": [
    "lin_model <- lm(area ~ . - org_area, data = train)"
   ]
  },
  {
   "cell_type": "code",
   "execution_count": 21,
   "id": "c451a20a",
   "metadata": {
    "scrolled": false
   },
   "outputs": [
    {
     "data": {
      "text/plain": [
       "\n",
       "                        Selection Summary                         \n",
       "-----------------------------------------------------------------\n",
       "Variable       AIC      Sum Sq      RSS       R-Sq      Adj. R-Sq \n",
       "-----------------------------------------------------------------\n",
       "month        597.214    12.418    236.837    0.04982      0.03474 \n",
       "FFMC         597.154    14.933    234.323    0.05991      0.03991 \n",
       "DC           595.446    19.392    229.864    0.07780      0.05314 \n",
       "DMC          595.170    22.087    227.169    0.08861      0.05921 \n",
       "-----------------------------------------------------------------"
      ]
     },
     "metadata": {},
     "output_type": "display_data"
    }
   ],
   "source": [
    "sfaic = ols_step_forward_aic(lin_model, penter = 0.8)\n",
    "sfaic"
   ]
  },
  {
   "cell_type": "code",
   "execution_count": 22,
   "id": "70c9d258",
   "metadata": {
    "scrolled": false
   },
   "outputs": [
    {
     "data": {
      "text/plain": [
       "\n",
       "\n",
       "                    Backward Elimination Summary                    \n",
       "------------------------------------------------------------------\n",
       "Variable        AIC        RSS      Sum Sq     R-Sq      Adj. R-Sq \n",
       "------------------------------------------------------------------\n",
       "Full Model    608.974    213.257    35.998    0.14442      0.05046 \n",
       "rain          606.974    213.257    35.998    0.14442      0.05591 \n",
       "X             604.984    213.269    35.986    0.14437      0.06126 \n",
       "ISI           603.046    213.337    35.918    0.14410      0.06629 \n",
       "Y             601.142    213.444    35.811    0.14367      0.07110 \n",
       "wind          599.411    213.742    35.514    0.14248      0.07503 \n",
       "temp          598.180    214.594    34.661    0.13906      0.07653 \n",
       "day           596.770    226.698    22.557    0.09050      0.05608 \n",
       "RH            595.170    227.169    22.087    0.08861      0.05921 \n",
       "------------------------------------------------------------------\n"
      ]
     },
     "metadata": {},
     "output_type": "display_data"
    }
   ],
   "source": [
    "sbaic = ols_step_backward_aic(lin_model, penter = 0.8)\n",
    "sbaic"
   ]
  },
  {
   "cell_type": "markdown",
   "id": "b3d28241",
   "metadata": {},
   "source": [
    "### From the correlation table above, it can be seen that\n",
    "\n",
    "DMC, DC\n",
    "\n",
    "FFMC, ISI\n",
    "\n",
    "FFMC, temp\n",
    "\n",
    "temp, DMC\n",
    "\n",
    "X, Y \n",
    "\n",
    "\n",
    "have strong correlation"
   ]
  },
  {
   "cell_type": "markdown",
   "id": "d1fa241a",
   "metadata": {},
   "source": [
    "### We shall therefore remove columns X, temp, DMC, ISI"
   ]
  },
  {
   "cell_type": "code",
   "execution_count": 23,
   "id": "29bd2ba3",
   "metadata": {
    "scrolled": true
   },
   "outputs": [
    {
     "data": {
      "text/html": [
       "<table>\n",
       "<thead><tr><th></th><th scope=col>X</th><th scope=col>Y</th><th scope=col>month</th><th scope=col>day</th><th scope=col>FFMC</th><th scope=col>DMC</th><th scope=col>DC</th><th scope=col>ISI</th><th scope=col>temp</th><th scope=col>RH</th><th scope=col>wind</th><th scope=col>rain</th><th scope=col>area</th><th scope=col>org_area</th></tr></thead>\n",
       "<tbody>\n",
       "\t<tr><th scope=row>179</th><td>7        </td><td>4        </td><td>sep      </td><td>fri      </td><td>88.2     </td><td>55.2     </td><td>732.3    </td><td>11.6     </td><td>15.2     </td><td>64       </td><td>3.1      </td><td>0        </td><td>0.4187103</td><td> 0.52    </td></tr>\n",
       "\t<tr><th scope=row>14</th><td>9        </td><td>9        </td><td>others   </td><td>sun      </td><td>90.1     </td><td>68.6     </td><td>355.2    </td><td> 7.2     </td><td>24.8     </td><td>29       </td><td>2.2      </td><td>0        </td><td>0.8586616</td><td> 1.36    </td></tr>\n",
       "\t<tr><th scope=row>195</th><td>3        </td><td>4        </td><td>sep      </td><td>sun      </td><td>90.5     </td><td>96.7     </td><td>750.5    </td><td>11.4     </td><td>20.6     </td><td>55       </td><td>5.4      </td><td>0        </td><td>3.2422017</td><td>24.59    </td></tr>\n",
       "</tbody>\n",
       "</table>\n"
      ],
      "text/latex": [
       "\\begin{tabular}{r|llllllllllllll}\n",
       "  & X & Y & month & day & FFMC & DMC & DC & ISI & temp & RH & wind & rain & area & org\\_area\\\\\n",
       "\\hline\n",
       "\t179 & 7         & 4         & sep       & fri       & 88.2      & 55.2      & 732.3     & 11.6      & 15.2      & 64        & 3.1       & 0         & 0.4187103 &  0.52    \\\\\n",
       "\t14 & 9         & 9         & others    & sun       & 90.1      & 68.6      & 355.2     &  7.2      & 24.8      & 29        & 2.2       & 0         & 0.8586616 &  1.36    \\\\\n",
       "\t195 & 3         & 4         & sep       & sun       & 90.5      & 96.7      & 750.5     & 11.4      & 20.6      & 55        & 5.4       & 0         & 3.2422017 & 24.59    \\\\\n",
       "\\end{tabular}\n"
      ],
      "text/markdown": [
       "\n",
       "| <!--/--> | X | Y | month | day | FFMC | DMC | DC | ISI | temp | RH | wind | rain | area | org_area |\n",
       "|---|---|---|---|---|---|---|---|---|---|---|---|---|---|---|\n",
       "| 179 | 7         | 4         | sep       | fri       | 88.2      | 55.2      | 732.3     | 11.6      | 15.2      | 64        | 3.1       | 0         | 0.4187103 |  0.52     |\n",
       "| 14 | 9         | 9         | others    | sun       | 90.1      | 68.6      | 355.2     |  7.2      | 24.8      | 29        | 2.2       | 0         | 0.8586616 |  1.36     |\n",
       "| 195 | 3         | 4         | sep       | sun       | 90.5      | 96.7      | 750.5     | 11.4      | 20.6      | 55        | 5.4       | 0         | 3.2422017 | 24.59     |\n",
       "\n"
      ],
      "text/plain": [
       "    X Y month  day FFMC DMC  DC    ISI  temp RH wind rain area      org_area\n",
       "179 7 4 sep    fri 88.2 55.2 732.3 11.6 15.2 64 3.1  0    0.4187103  0.52   \n",
       "14  9 9 others sun 90.1 68.6 355.2  7.2 24.8 29 2.2  0    0.8586616  1.36   \n",
       "195 3 4 sep    sun 90.5 96.7 750.5 11.4 20.6 55 5.4  0    3.2422017 24.59   "
      ]
     },
     "metadata": {},
     "output_type": "display_data"
    }
   ],
   "source": [
    "head(train, 3)"
   ]
  },
  {
   "cell_type": "code",
   "execution_count": 24,
   "id": "6be80785",
   "metadata": {
    "scrolled": true
   },
   "outputs": [],
   "source": [
    "train = subset(train, select = -c(X, DMC, ISI, temp))"
   ]
  },
  {
   "cell_type": "code",
   "execution_count": 25,
   "id": "800e4477",
   "metadata": {},
   "outputs": [
    {
     "data": {
      "text/html": [
       "<table>\n",
       "<thead><tr><th></th><th scope=col>Y</th><th scope=col>month</th><th scope=col>day</th><th scope=col>FFMC</th><th scope=col>DC</th><th scope=col>RH</th><th scope=col>wind</th><th scope=col>rain</th><th scope=col>area</th><th scope=col>org_area</th></tr></thead>\n",
       "<tbody>\n",
       "\t<tr><th scope=row>179</th><td>4        </td><td>sep      </td><td>fri      </td><td>88.2     </td><td>732.3    </td><td>64       </td><td>3.1      </td><td>0        </td><td>0.4187103</td><td> 0.52    </td></tr>\n",
       "\t<tr><th scope=row>14</th><td>9        </td><td>others   </td><td>sun      </td><td>90.1     </td><td>355.2    </td><td>29       </td><td>2.2      </td><td>0        </td><td>0.8586616</td><td> 1.36    </td></tr>\n",
       "\t<tr><th scope=row>195</th><td>4        </td><td>sep      </td><td>sun      </td><td>90.5     </td><td>750.5    </td><td>55       </td><td>5.4      </td><td>0        </td><td>3.2422017</td><td>24.59    </td></tr>\n",
       "</tbody>\n",
       "</table>\n"
      ],
      "text/latex": [
       "\\begin{tabular}{r|llllllllll}\n",
       "  & Y & month & day & FFMC & DC & RH & wind & rain & area & org\\_area\\\\\n",
       "\\hline\n",
       "\t179 & 4         & sep       & fri       & 88.2      & 732.3     & 64        & 3.1       & 0         & 0.4187103 &  0.52    \\\\\n",
       "\t14 & 9         & others    & sun       & 90.1      & 355.2     & 29        & 2.2       & 0         & 0.8586616 &  1.36    \\\\\n",
       "\t195 & 4         & sep       & sun       & 90.5      & 750.5     & 55        & 5.4       & 0         & 3.2422017 & 24.59    \\\\\n",
       "\\end{tabular}\n"
      ],
      "text/markdown": [
       "\n",
       "| <!--/--> | Y | month | day | FFMC | DC | RH | wind | rain | area | org_area |\n",
       "|---|---|---|---|---|---|---|---|---|---|---|\n",
       "| 179 | 4         | sep       | fri       | 88.2      | 732.3     | 64        | 3.1       | 0         | 0.4187103 |  0.52     |\n",
       "| 14 | 9         | others    | sun       | 90.1      | 355.2     | 29        | 2.2       | 0         | 0.8586616 |  1.36     |\n",
       "| 195 | 4         | sep       | sun       | 90.5      | 750.5     | 55        | 5.4       | 0         | 3.2422017 | 24.59     |\n",
       "\n"
      ],
      "text/plain": [
       "    Y month  day FFMC DC    RH wind rain area      org_area\n",
       "179 4 sep    fri 88.2 732.3 64 3.1  0    0.4187103  0.52   \n",
       "14  9 others sun 90.1 355.2 29 2.2  0    0.8586616  1.36   \n",
       "195 4 sep    sun 90.5 750.5 55 5.4  0    3.2422017 24.59   "
      ]
     },
     "metadata": {},
     "output_type": "display_data"
    }
   ],
   "source": [
    "head(train, 3)"
   ]
  },
  {
   "cell_type": "markdown",
   "id": "ef087fb6",
   "metadata": {},
   "source": [
    "### model building"
   ]
  },
  {
   "cell_type": "code",
   "execution_count": 26,
   "id": "c50c1822",
   "metadata": {},
   "outputs": [
    {
     "data": {
      "text/plain": [
       "\n",
       "Call:\n",
       "lm(formula = area ~ ., data = train[1:9])\n",
       "\n",
       "Residuals:\n",
       "    Min      1Q  Median      3Q     Max \n",
       "-2.1955 -0.7424 -0.1251  0.7135  3.0152 \n",
       "\n",
       "Coefficients:\n",
       "              Estimate Std. Error t value Pr(>|t|)    \n",
       "(Intercept) -2.7225034  3.2021314  -0.850 0.396354    \n",
       "Y           -0.0178711  0.0693461  -0.258 0.796932    \n",
       "monthmar    -0.0791471  0.5350822  -0.148 0.882578    \n",
       "monthothers  0.1863630  0.3507333   0.531 0.595841    \n",
       "monthsep     0.8287422  0.2381211   3.480 0.000631 ***\n",
       "daymon      -0.0796713  0.3090275  -0.258 0.796851    \n",
       "daysat       0.6800782  0.2983959   2.279 0.023854 *  \n",
       "daysun       0.3985771  0.2800807   1.423 0.156473    \n",
       "daythu       0.0430132  0.3396549   0.127 0.899371    \n",
       "daytue       0.2155460  0.3051492   0.706 0.480891    \n",
       "daywed      -0.0137721  0.3137092  -0.044 0.965033    \n",
       "FFMC         0.0564068  0.0342134   1.649 0.100988    \n",
       "DC          -0.0013922  0.0008503  -1.637 0.103369    \n",
       "RH          -0.0034456  0.0059873  -0.575 0.565698    \n",
       "wind         0.0263555  0.0476644   0.553 0.581003    \n",
       "rain        -0.0665805  0.8205289  -0.081 0.935420    \n",
       "---\n",
       "Signif. codes:  0 '***' 0.001 '**' 0.01 '*' 0.05 '.' 0.1 ' ' 1\n",
       "\n",
       "Residual standard error: 1.105 on 177 degrees of freedom\n",
       "Multiple R-squared:  0.1328,\tAdjusted R-squared:  0.0593 \n",
       "F-statistic: 1.807 on 15 and 177 DF,  p-value: 0.03671\n"
      ]
     },
     "metadata": {},
     "output_type": "display_data"
    }
   ],
   "source": [
    "model = lm(area ~ ., data = train[1:9])\n",
    "\n",
    "summary(model)"
   ]
  },
  {
   "cell_type": "markdown",
   "id": "b67e66de",
   "metadata": {},
   "source": [
    "# Checking for linear regression assumptions"
   ]
  },
  {
   "cell_type": "code",
   "execution_count": 27,
   "id": "006a2575",
   "metadata": {
    "scrolled": false
   },
   "outputs": [
    {
     "data": {
      "image/png": "[encoded data removed]",
      "text/plain": [
       "Plot with title \"\""
      ]
     },
     "metadata": {},
     "output_type": "display_data"
    }
   ],
   "source": [
    "par(mfrow=c(2,2))\n",
    "plot(model)"
   ]
  },
  {
   "cell_type": "markdown",
   "id": "17159225",
   "metadata": {},
   "source": [
    "### It can be seen that our linear regression assumptions are met. Also, homoscedasticity is met. "
   ]
  },
  {
   "cell_type": "markdown",
   "id": "dc129722",
   "metadata": {},
   "source": [
    "### testing the model on test data"
   ]
  },
  {
   "cell_type": "code",
   "execution_count": 28,
   "id": "f9358be6",
   "metadata": {},
   "outputs": [],
   "source": [
    "test$pred = predict(model, test)"
   ]
  },
  {
   "cell_type": "markdown",
   "id": "0f120a6c",
   "metadata": {},
   "source": [
    "### plotting the actual values and our predictions"
   ]
  },
  {
   "cell_type": "code",
   "execution_count": 29,
   "id": "ab6a1d61",
   "metadata": {},
   "outputs": [],
   "source": [
    "test$error = test$area - test$pred"
   ]
  },
  {
   "cell_type": "code",
   "execution_count": 30,
   "id": "71b0727e",
   "metadata": {
    "scrolled": false
   },
   "outputs": [
    {
     "data": {
      "image/png": "[encoded data removed]",
      "text/plain": [
       "plot without title"
      ]
     },
     "metadata": {},
     "output_type": "display_data"
    }
   ],
   "source": [
    "plot(test$area)\n",
    "lines(test$pred)"
   ]
  },
  {
   "cell_type": "markdown",
   "id": "f3aa984e",
   "metadata": {},
   "source": [
    "### We might need to try another model as linear regression does not seem to work well."
   ]
  }
 ],
 "metadata": {
  "kernelspec": {
   "display_name": "R",
   "language": "R",
   "name": "ir"
  },
  "language_info": {
   "codemirror_mode": "r",
   "file_extension": ".r",
   "mimetype": "text/x-r-source",
   "name": "R",
   "pygments_lexer": "r",
   "version": "3.6.1"
  }
 },
 "nbformat": 4,
 "nbformat_minor": 5
}
